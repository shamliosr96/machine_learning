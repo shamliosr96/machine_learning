{
 "cells": [
  {
   "cell_type": "code",
   "execution_count": 6,
   "metadata": {},
   "outputs": [],
   "source": [
    "import csv\n",
    "import json"
   ]
  },
  {
   "cell_type": "code",
   "execution_count": 10,
   "metadata": {},
   "outputs": [],
   "source": [
    "def make_json(csvfile_path, jsonfile_path):\n",
    "    data_dic = {}        # create empty dictionary\n",
    "    \n",
    "    with open(csvfile_path, encoding='utf-8') as csv_file:  # Open a csv reader called DictReader  \n",
    "        csv_reader = csv.DictReader(csv_file)\n",
    "        \n",
    "        for rows in csv_reader:    # Convert each row into a dictionary and add it to data \n",
    "            key = rows['handle']  # choose unique key from the data as i used 'handle' which is twitter account\n",
    "            data_dic[key] = rows \n",
    "            \n",
    "    with open(jsonFilePath, 'w', encoding='utf-8') as jsonf: #Open a json writer,use the json.dumps() function to dump data  \n",
    "        jsonf.write(json.dumps(data_dic, indent=4))\n",
    "\n",
    "csvfile_path = r'filtered_1336.csv'  #give path fo csv file and json file\n",
    "jsonfile_path = r'file.json'\n",
    "  \n",
    "make_json(csvfile_path, jsonfile_path)   # Call the make_json function "
   ]
  },
  {
   "cell_type": "code",
   "execution_count": null,
   "metadata": {},
   "outputs": [],
   "source": []
  },
  {
   "cell_type": "code",
   "execution_count": null,
   "metadata": {},
   "outputs": [],
   "source": []
  }
 ],
 "metadata": {
  "kernelspec": {
   "display_name": "Python 3",
   "language": "python",
   "name": "python3"
  },
  "language_info": {
   "codemirror_mode": {
    "name": "ipython",
    "version": 3
   },
   "file_extension": ".py",
   "mimetype": "text/x-python",
   "name": "python",
   "nbconvert_exporter": "python",
   "pygments_lexer": "ipython3",
   "version": "3.5.2"
  }
 },
 "nbformat": 4,
 "nbformat_minor": 2
}
